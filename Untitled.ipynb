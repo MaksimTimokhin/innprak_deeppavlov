{
 "cells": [
  {
   "cell_type": "code",
   "execution_count": 3,
   "metadata": {},
   "outputs": [],
   "source": [
    "from deeppavlov.skills.pattern_matching_skill import PatternMatchingSkill\n",
    "from deeppavlov.contrib.skills.similarity_matching_skill import SimilarityMatchingSkill\n",
    "from deeppavlov.agents.default_agent.default_agent import DefaultAgent\n",
    "from deeppavlov.agents.processors.highest_confidence_selector import HighestConfidenceSelector"
   ]
  },
  {
   "cell_type": "code",
   "execution_count": 7,
   "metadata": {},
   "outputs": [],
   "source": [
    "hello = PatternMatchingSkill(responses=['Привет', 'Приветствую'], patterns=['Привет', 'Здравствуйте'])\n",
    "bye = PatternMatchingSkill(responses=['Пока', 'Всего доброго'], patterns=['Пока', 'До свидания'])\n",
    "fallback = PatternMatchingSkill(responses=['Пожалуйста перефразируйте'], default_confidence = 0.3)"
   ]
  },
  {
   "cell_type": "code",
   "execution_count": 105,
   "metadata": {},
   "outputs": [],
   "source": [
    "import pandas as pd"
   ]
  },
  {
   "cell_type": "code",
   "execution_count": 106,
   "metadata": {},
   "outputs": [],
   "source": [
    "dataset = pd.read_excel('dodo-qna-kb.xlsx')\n",
    "dataset = dataset.set_index('answer').stack().reset_index()\n",
    "dataset = dataset.where(dataset.level_1 != 'id').dropna().drop(['level_1'], axis=1)\n",
    "dataset.columns = ['Answer', 'Question']\n",
    "dataset.to_csv('dodo.csv', index=False)"
   ]
  },
  {
   "cell_type": "code",
   "execution_count": 116,
   "metadata": {},
   "outputs": [
    {
     "name": "stderr",
     "output_type": "stream",
     "text": [
      "2019-04-23 03:30:22.639 INFO in 'deeppavlov.core.data.utils'['utils'] at line 63: Downloading from http://files.deeppavlov.ai/vectorizer/tfidf_vectorizer_ruwiki_v1.pkl to /home/maxim/deeppavlov/model/vectorizer/tfidf_vectorizer_ruwiki_v1.pkl\n",
      "100%|██████████| 14.5k/14.5k [00:00<00:00, 4.43MB/s]\n",
      "2019-04-23 03:30:22.908 INFO in 'deeppavlov.core.data.utils'['utils'] at line 63: Downloading from http://files.deeppavlov.ai/faq/school/tfidf_logreg_classifier_v1.pkl to /home/maxim/deeppavlov/model/faq/tfidf_logreg_classifier_v1.pkl\n",
      "100%|██████████| 24.3k/24.3k [00:00<00:00, 8.24MB/s]\n",
      "2019-04-23 03:30:23.135 INFO in 'deeppavlov.core.data.utils'['utils'] at line 63: Downloading from http://files.deeppavlov.ai/faq/mipt/ru_mipt_answers.dict to /home/maxim/deeppavlov/model/faq/ru_mipt_answers.dict\n",
      "100%|██████████| 4.03k/4.03k [00:00<00:00, 4.94MB/s]\n",
      "2019-04-23 03:30:23.248 INFO in 'deeppavlov.models.sklearn.sklearn_component'['sklearn_component'] at line 202: Loading model sklearn.feature_extraction.text:TfidfVectorizer from /home/maxim/deeppavlov/model/vectorizer/tfidf_vectorizer_ruwiki_v1.pkl\n",
      "2019-04-23 03:30:23.250 INFO in 'deeppavlov.models.sklearn.sklearn_component'['sklearn_component'] at line 209: Model sklearn.feature_extraction.textTfidfVectorizer loaded  with parameters\n",
      "2019-04-23 03:30:23.250 WARNING in 'deeppavlov.models.sklearn.sklearn_component'['sklearn_component'] at line 215: Fitting of loaded model can not be continued. Model can be fitted from scratch.If one needs to continue fitting, please, look at `warm_start` parameter\n",
      "2019-04-23 03:30:23.472 INFO in 'deeppavlov.models.sklearn.sklearn_component'['sklearn_component'] at line 108: Fitting model sklearn.feature_extraction.textTfidfVectorizer\n",
      "2019-04-23 03:30:23.479 INFO in 'deeppavlov.models.sklearn.sklearn_component'['sklearn_component'] at line 240: Saving model to /home/maxim/deeppavlov/model/vectorizer/tfidf_vectorizer_ruwiki_v1.pkl\n",
      "2019-04-23 03:30:23.485 INFO in 'deeppavlov.core.data.simple_vocab'['simple_vocab'] at line 103: [loading vocabulary from /home/maxim/deeppavlov/model/faq/ru_mipt_answers.dict]\n",
      "2019-04-23 03:30:23.488 INFO in 'deeppavlov.core.data.simple_vocab'['simple_vocab'] at line 89: [saving vocabulary to /home/maxim/deeppavlov/model/faq/ru_mipt_answers.dict]\n",
      "2019-04-23 03:30:23.491 INFO in 'deeppavlov.models.sklearn.sklearn_component'['sklearn_component'] at line 202: Loading model sklearn.linear_model:LogisticRegression from /home/maxim/deeppavlov/model/faq/tfidf_logreg_classifier_v1.pkl\n",
      "2019-04-23 03:30:23.492 INFO in 'deeppavlov.models.sklearn.sklearn_component'['sklearn_component'] at line 209: Model sklearn.linear_model.logisticLogisticRegression loaded  with parameters\n",
      "2019-04-23 03:30:23.493 WARNING in 'deeppavlov.models.sklearn.sklearn_component'['sklearn_component'] at line 215: Fitting of loaded model can not be continued. Model can be fitted from scratch.If one needs to continue fitting, please, look at `warm_start` parameter\n",
      "2019-04-23 03:30:23.591 INFO in 'deeppavlov.models.sklearn.sklearn_component'['sklearn_component'] at line 108: Fitting model sklearn.linear_model.logisticLogisticRegression\n",
      "2019-04-23 03:30:23.800 INFO in 'deeppavlov.models.sklearn.sklearn_component'['sklearn_component'] at line 240: Saving model to /home/maxim/deeppavlov/model/faq/tfidf_logreg_classifier_v1.pkl\n",
      "2019-04-23 03:30:23.857 INFO in 'deeppavlov.models.sklearn.sklearn_component'['sklearn_component'] at line 202: Loading model sklearn.feature_extraction.text:TfidfVectorizer from /home/maxim/deeppavlov/model/vectorizer/tfidf_vectorizer_ruwiki_v1.pkl\n",
      "2019-04-23 03:30:23.858 INFO in 'deeppavlov.models.sklearn.sklearn_component'['sklearn_component'] at line 209: Model sklearn.feature_extraction.textTfidfVectorizer loaded  with parameters\n",
      "2019-04-23 03:30:23.859 WARNING in 'deeppavlov.models.sklearn.sklearn_component'['sklearn_component'] at line 215: Fitting of loaded model can not be continued. Model can be fitted from scratch.If one needs to continue fitting, please, look at `warm_start` parameter\n",
      "2019-04-23 03:30:23.860 INFO in 'deeppavlov.core.data.simple_vocab'['simple_vocab'] at line 103: [loading vocabulary from /home/maxim/deeppavlov/model/faq/ru_mipt_answers.dict]\n",
      "2019-04-23 03:30:23.865 INFO in 'deeppavlov.models.sklearn.sklearn_component'['sklearn_component'] at line 202: Loading model sklearn.linear_model:LogisticRegression from /home/maxim/deeppavlov/model/faq/tfidf_logreg_classifier_v1.pkl\n",
      "2019-04-23 03:30:23.869 INFO in 'deeppavlov.models.sklearn.sklearn_component'['sklearn_component'] at line 209: Model sklearn.linear_model.logisticLogisticRegression loaded  with parameters\n",
      "2019-04-23 03:30:23.870 WARNING in 'deeppavlov.models.sklearn.sklearn_component'['sklearn_component'] at line 215: Fitting of loaded model can not be continued. Model can be fitted from scratch.If one needs to continue fitting, please, look at `warm_start` parameter\n",
      "2019-04-23 03:30:23.950 INFO in 'deeppavlov.models.sklearn.sklearn_component'['sklearn_component'] at line 202: Loading model sklearn.feature_extraction.text:TfidfVectorizer from /home/maxim/deeppavlov/model/vectorizer/tfidf_vectorizer_ruwiki_v1.pkl\n",
      "2019-04-23 03:30:23.951 INFO in 'deeppavlov.models.sklearn.sklearn_component'['sklearn_component'] at line 209: Model sklearn.feature_extraction.textTfidfVectorizer loaded  with parameters\n",
      "2019-04-23 03:30:23.953 WARNING in 'deeppavlov.models.sklearn.sklearn_component'['sklearn_component'] at line 215: Fitting of loaded model can not be continued. Model can be fitted from scratch.If one needs to continue fitting, please, look at `warm_start` parameter\n",
      "2019-04-23 03:30:23.955 INFO in 'deeppavlov.core.data.simple_vocab'['simple_vocab'] at line 103: [loading vocabulary from /home/maxim/deeppavlov/model/faq/ru_mipt_answers.dict]\n",
      "2019-04-23 03:30:23.960 INFO in 'deeppavlov.models.sklearn.sklearn_component'['sklearn_component'] at line 202: Loading model sklearn.linear_model:LogisticRegression from /home/maxim/deeppavlov/model/faq/tfidf_logreg_classifier_v1.pkl\n",
      "2019-04-23 03:30:23.962 INFO in 'deeppavlov.models.sklearn.sklearn_component'['sklearn_component'] at line 209: Model sklearn.linear_model.logisticLogisticRegression loaded  with parameters\n",
      "2019-04-23 03:30:23.963 WARNING in 'deeppavlov.models.sklearn.sklearn_component'['sklearn_component'] at line 215: Fitting of loaded model can not be continued. Model can be fitted from scratch.If one needs to continue fitting, please, look at `warm_start` parameter\n",
      "2019-04-23 03:30:23.966 INFO in 'deeppavlov.contrib.skills.similarity_matching_skill.similarity_matching_skill'['similarity_matching_skill'] at line 69: Your model was saved at: './model'\n"
     ]
    }
   ],
   "source": [
    "faq = SimilarityMatchingSkill(\n",
    "  data_path ='dodo.csv',\n",
    "  x_col_name = 'Question',\n",
    "  y_col_name = 'Answer',\n",
    "  save_load_path = './model',\n",
    "  config_type = 'tfidf_logreg_autofaq',\n",
    "  edit_dict = {},\n",
    "  train = True\n",
    ")"
   ]
  },
  {
   "cell_type": "code",
   "execution_count": 117,
   "metadata": {},
   "outputs": [
    {
     "data": {
      "text/plain": [
       "([['/OrderCloseOrder']], [0.9401342425997898])"
      ]
     },
     "execution_count": 117,
     "metadata": {},
     "output_type": "execute_result"
    }
   ],
   "source": [
    "faq(['отмена'],[],[])"
   ]
  },
  {
   "cell_type": "code",
   "execution_count": 120,
   "metadata": {},
   "outputs": [
    {
     "name": "stdout",
     "output_type": "stream",
     "text": [
      "([['Пицца'], ['/OrderOrderComplaint'], ['/OrderCloseOrder']], [0.7580773914266528, 0.9892117473356661, 0.9925512727786086])\n"
     ]
    }
   ],
   "source": [
    "print(faq(['пицца', 'состав пиццы не тот', 'отмена заказа'], [], []))"
   ]
  },
  {
   "cell_type": "code",
   "execution_count": null,
   "metadata": {},
   "outputs": [],
   "source": []
  }
 ],
 "metadata": {
  "kernelspec": {
   "display_name": "Python 3",
   "language": "python",
   "name": "python3"
  },
  "language_info": {
   "codemirror_mode": {
    "name": "ipython",
    "version": 3
   },
   "file_extension": ".py",
   "mimetype": "text/x-python",
   "name": "python",
   "nbconvert_exporter": "python",
   "pygments_lexer": "ipython3",
   "version": "3.7.3"
  }
 },
 "nbformat": 4,
 "nbformat_minor": 2
}
